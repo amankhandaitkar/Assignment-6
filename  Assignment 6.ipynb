{
 "cells": [
  {
   "cell_type": "markdown",
   "id": "841f6cbe",
   "metadata": {},
   "source": [
    "# Q.1. What are keywords in python? Using the keyword library, print all the python keywords.\n",
    "\n",
    "Ans: Keywords in Python are reserved words with predefined meanings that cannot be used as identifiers. The keyword module in Python provides a list of all keywords. To print all Python keywords, you can use the following code:"
   ]
  },
  {
   "cell_type": "code",
   "execution_count": 2,
   "id": "6c1a1984",
   "metadata": {},
   "outputs": [
    {
     "name": "stdout",
     "output_type": "stream",
     "text": [
      "['False', 'None', 'True', 'and', 'as', 'assert', 'async', 'await', 'break', 'class', 'continue', 'def', 'del', 'elif', 'else', 'except', 'finally', 'for', 'from', 'global', 'if', 'import', 'in', 'is', 'lambda', 'nonlocal', 'not', 'or', 'pass', 'raise', 'return', 'try', 'while', 'with', 'yield']\n"
     ]
    }
   ],
   "source": [
    "import keyword\n",
    "print(keyword.kwlist)\n"
   ]
  },
  {
   "cell_type": "markdown",
   "id": "b77d89a5",
   "metadata": {},
   "source": [
    "# Q.2. What are the rules to create variables in python?\n",
    "Ans:\n",
    "1. Variable names must start with a letter (a-z, A-Z) or an underscore (_).\n",
    "2. The remaining characters in the variable name can include letters, numbers, and underscores.\n",
    "3. Variable names are case-sensitive.\n",
    "4. Avoid using Python keywords as variable names.\n",
    "5. Variable names should be descriptive and follow a meaningful naming convention.\n",
    "\n",
    "Example of valid variable names: `my_variable`, `count_1`, `_temperature`\n",
    "\n",
    "Example of invalid variable names: `1st_place` (starts with a number), `if` (keyword), `my-variable` (contains a hyphen)"
   ]
  },
  {
   "cell_type": "markdown",
   "id": "477dbc5b",
   "metadata": {},
   "source": [
    "# Q.3. What are the standards and conventions followed for the nomenclature of variables in python to improve code readability and maintainability?\n",
    "Ans: In Python, the standards and conventions for variable nomenclature to improve code readability and maintainability include:\n",
    "\n",
    "1. **Use Descriptive Names:**\n",
    "   - Choose meaningful and descriptive names for variables.\n",
    "   - Use full words instead of abbreviations when possible.\n",
    "\n",
    "2. **Follow PEP 8 Guidelines:**\n",
    "   - Adhere to the Python Enhancement Proposal 8 (PEP 8) style guide.\n",
    "   - Use lowercase letters with underscores for variable names (snake_case).\n",
    "\n",
    "3. **Be Consistent:**\n",
    "   - Maintain consistency in naming throughout your codebase.\n",
    "   - Use the same naming conventions for similar types of variables.\n",
    "\n",
    "4. **Avoid Single-Character Names:**\n",
    "   - Use names that convey the purpose of the variable.\n",
    "   - Avoid single-character names except for simple loop variables.\n",
    "\n",
    "5. **Use Constants in Uppercase:**\n",
    "   - If a variable is intended to be a constant, use uppercase letters with underscores (e.g., `MAX_SIZE`).\n",
    "\n",
    "6. **Follow Domain-Specific Conventions:**\n",
    "   - When working on a project, follow any domain-specific naming conventions established by the project or team.\n",
    "\n",
    "7. **Consider Function and Class Naming:**\n",
    "   - Apply similar conventions to function and class names to maintain a consistent style.\n",
    "\n",
    "8. **Avoid Reserved Words:**\n",
    "   - Avoid using Python keywords as variable names.\n",
    "\n",
    "By following these standards, code becomes more readable and maintainable, facilitating collaboration and reducing the likelihood of errors."
   ]
  },
  {
   "cell_type": "markdown",
   "id": "40ef155a",
   "metadata": {},
   "source": [
    "# Q.4. What will happen if a keyword is used as a variable name?\n",
    "Ans: If a keyword is used as a variable name in Python, it will result in a syntax error. Keywords are reserved for specific purposes in the language, and attempting to use them as variable names violates the syntax rules, leading to a compilation error. It's essential to choose different, non-reserved names for variables to avoid such conflicts."
   ]
  },
  {
   "cell_type": "markdown",
   "id": "0d65c13f",
   "metadata": {},
   "source": [
    "# Q.5. For what purpose def keyword is used?\n",
    "Ans: The `def` keyword in Python is used to define a function. It indicates the beginning of a function block and is followed by the function name, parameters, and a colon. The subsequent indented block contains the code that defines the function's behavior."
   ]
  },
  {
   "cell_type": "markdown",
   "id": "0d507358",
   "metadata": {},
   "source": [
    "# Q.6. What is the operation of this special character ‘\\’?\n",
    "Ans: The backslash (`\\`) in Python is used as an escape character. It indicates that the character following it has a special meaning. It is commonly used in strings to escape characters that would otherwise have a special meaning, such as newline (`\\n`) or tab (`\\t`). Additionally, it is used to create multiline statements or escape special characters in regular expressions."
   ]
  },
  {
   "cell_type": "markdown",
   "id": "7e2787fe",
   "metadata": {},
   "source": [
    "# Q.7. Give an example of the following conditions:\n",
    "(i) Homogeneous list\n",
    "\n",
    "(ii) Heterogeneous set\n",
    "\n",
    "(iii) Homogeneous tuple\n"
   ]
  },
  {
   "cell_type": "markdown",
   "id": "b28c614f",
   "metadata": {},
   "source": [
    "# Ans: (i) Homogeneous List:\n",
    "homogeneous_list = [1, 2, 3, 4, 5]\n"
   ]
  },
  {
   "cell_type": "markdown",
   "id": "217bb6e1",
   "metadata": {},
   "source": [
    "# (ii) Heterogeneous Set\n",
    "heterogeneous_set = {1, 'apple', 3.14, (2, 3)}"
   ]
  },
  {
   "cell_type": "markdown",
   "id": "8015d260",
   "metadata": {},
   "source": [
    "# (iii) Homogeneous Tuple:\n",
    "homogeneous_tuple = (10, 20, 30, 40, 50)"
   ]
  },
  {
   "cell_type": "markdown",
   "id": "97f8c4fe",
   "metadata": {},
   "source": [
    "# Q.8. Explain the mutable and immutable data types with proper explanation & examples.\n",
    "Ans: *Mutable Data Types*:\n",
    "\n",
    "*Mutable objects can be modified or changed after creation.\n",
    "\n",
    "*Changes to the object are reflected without the need for creating a new object. \n",
    " \n",
    " Example of Mutable Data Type - List:"
   ]
  },
  {
   "cell_type": "code",
   "execution_count": 8,
   "id": "054dd47a",
   "metadata": {},
   "outputs": [
    {
     "name": "stdout",
     "output_type": "stream",
     "text": [
      "[10, 2, 3]\n"
     ]
    }
   ],
   "source": [
    "mutable_list = [1, 2, 3]\n",
    "mutable_list[0] = 10\n",
    "print(mutable_list)  # Output: [10, 2, 3]\n"
   ]
  },
  {
   "cell_type": "markdown",
   "id": "016d9111",
   "metadata": {},
   "source": [
    "Immutable Data Types:\n",
    "\n",
    "*Immutable objects cannot be modified after creation.\n",
    "\n",
    "*Any operation that appears to modify the object actually creates a new object.\n",
    "\n",
    "Examples of Immutable Data Types:\n",
    "\n",
    "1).*Tuple*"
   ]
  },
  {
   "cell_type": "code",
   "execution_count": 12,
   "id": "5a974839",
   "metadata": {},
   "outputs": [],
   "source": [
    "\n",
    "immutable_tuple = (1, 2, 3)\n",
    "# Attempting to modify will result in an error:\n",
    "# immutable_tuple[0] = 10  # TypeError\n"
   ]
  },
  {
   "cell_type": "markdown",
   "id": "69912411",
   "metadata": {},
   "source": [
    "2).String:"
   ]
  },
  {
   "cell_type": "code",
   "execution_count": 13,
   "id": "4c9aebfb",
   "metadata": {},
   "outputs": [
    {
     "name": "stdout",
     "output_type": "stream",
     "text": [
      "hello world\n"
     ]
    }
   ],
   "source": [
    "immutable_string = \"hello\"\n",
    "# Concatenation creates a new string:\n",
    "new_string = immutable_string + \" world\"\n",
    "print(new_string)  # Output: \"hello world\"\n"
   ]
  },
  {
   "cell_type": "markdown",
   "id": "3a4d1698",
   "metadata": {},
   "source": [
    "Immutable objects are safer for certain use cases (e.g., dictionary keys, function arguments) as they prevent unintentional changes."
   ]
  },
  {
   "cell_type": "markdown",
   "id": "07a847a3",
   "metadata": {},
   "source": [
    "# Q.9. Write a code to create the given structure using only for loop.\n",
    "\n",
    "           *\n",
    "          ***\n",
    "         *****\n",
    "        *******\n",
    "       *********\n",
    "       \n",
    "Ans:"
   ]
  },
  {
   "cell_type": "code",
   "execution_count": 17,
   "id": "e973b194",
   "metadata": {},
   "outputs": [
    {
     "name": "stdout",
     "output_type": "stream",
     "text": [
      "    *\n",
      "   ***\n",
      "  *****\n",
      " *******\n",
      "*********\n"
     ]
    }
   ],
   "source": [
    "# Number of rows in the pattern\n",
    "num_rows = 5\n",
    "\n",
    "# Outer loop for each row\n",
    "for i in range(num_rows):\n",
    "    # Inner loop for spaces before '*'\n",
    "    for j in range(num_rows - i - 1):\n",
    "        print(\" \", end=\"\")\n",
    "    \n",
    "    # Inner loop for '*' pattern\n",
    "    for k in range(2 * i + 1):\n",
    "        print(\"*\", end=\"\")\n",
    "    \n",
    "    # Move to the next line after each row\n",
    "    print()\n",
    " "
   ]
  },
  {
   "cell_type": "markdown",
   "id": "b0e5cb3c",
   "metadata": {},
   "source": [
    "#Q.10. Write a code to create the given structure using while loop.\n",
    "\n",
    "    |||||||||\n",
    "     |||||||\n",
    "      |||||\n",
    "       |||\n",
    "        | \n",
    "Ans:"
   ]
  },
  {
   "cell_type": "code",
   "execution_count": 19,
   "id": "5fa25420",
   "metadata": {},
   "outputs": [
    {
     "name": "stdout",
     "output_type": "stream",
     "text": [
      "|||||||||\n",
      " |||||||\n",
      "  |||||\n",
      "   |||\n",
      "    |\n"
     ]
    }
   ],
   "source": [
    "# Number of rows in the pattern\n",
    "num_rows = 5\n",
    "\n",
    "# Initialize variables\n",
    "row = 0\n",
    "\n",
    "# Outer loop for each row\n",
    "while row < num_rows:\n",
    "    # Inner loop for spaces before '|'\n",
    "    spaces = 0\n",
    "    while spaces < row:\n",
    "        print(\" \", end=\"\")\n",
    "        spaces += 1\n",
    "    \n",
    "    # Inner loop for '|' pattern\n",
    "    pipes = 2 * (num_rows - row) - 1\n",
    "    while pipes > 0:\n",
    "        print(\"|\", end=\"\")\n",
    "        pipes -= 1\n",
    "    \n",
    "    # Move to the next line after each row\n",
    "    print()\n",
    "    row += 1\n"
   ]
  },
  {
   "cell_type": "code",
   "execution_count": null,
   "id": "be2185dd",
   "metadata": {},
   "outputs": [],
   "source": []
  }
 ],
 "metadata": {
  "kernelspec": {
   "display_name": "Python 3 (ipykernel)",
   "language": "python",
   "name": "python3"
  },
  "language_info": {
   "codemirror_mode": {
    "name": "ipython",
    "version": 3
   },
   "file_extension": ".py",
   "mimetype": "text/x-python",
   "name": "python",
   "nbconvert_exporter": "python",
   "pygments_lexer": "ipython3",
   "version": "3.11.3"
  }
 },
 "nbformat": 4,
 "nbformat_minor": 5
}
